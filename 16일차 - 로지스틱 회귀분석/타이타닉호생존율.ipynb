{
 "cells": [
  {
   "cell_type": "code",
   "execution_count": 2,
   "id": "7ec03104-9ce6-456c-90e2-4d32fc8b298c",
   "metadata": {},
   "outputs": [],
   "source": [
    "import seaborn as sns"
   ]
  },
  {
   "cell_type": "code",
   "execution_count": 4,
   "id": "0b7b209c-7471-4cf6-bb5f-7af027d94843",
   "metadata": {},
   "outputs": [],
   "source": [
    "# 타이타닉 학습용 데이터셋 \n",
    "titanic = sns.load_dataset('titanic')"
   ]
  },
  {
   "cell_type": "code",
   "execution_count": 7,
   "id": "d2c024f6-6138-40ee-919c-b081dcaf868d",
   "metadata": {},
   "outputs": [
    {
     "name": "stdout",
     "output_type": "stream",
     "text": [
      "     survived  pclass     sex   age  sibsp  parch     fare embarked   class  \\\n",
      "0           0       3    male  22.0      1      0   7.2500        S   Third   \n",
      "1           1       1  female  38.0      1      0  71.2833        C   First   \n",
      "2           1       3  female  26.0      0      0   7.9250        S   Third   \n",
      "3           1       1  female  35.0      1      0  53.1000        S   First   \n",
      "4           0       3    male  35.0      0      0   8.0500        S   Third   \n",
      "..        ...     ...     ...   ...    ...    ...      ...      ...     ...   \n",
      "886         0       2    male  27.0      0      0  13.0000        S  Second   \n",
      "887         1       1  female  19.0      0      0  30.0000        S   First   \n",
      "888         0       3  female   NaN      1      2  23.4500        S   Third   \n",
      "889         1       1    male  26.0      0      0  30.0000        C   First   \n",
      "890         0       3    male  32.0      0      0   7.7500        Q   Third   \n",
      "\n",
      "       who  adult_male deck  embark_town alive  alone  \n",
      "0      man        True  NaN  Southampton    no  False  \n",
      "1    woman       False    C    Cherbourg   yes  False  \n",
      "2    woman       False  NaN  Southampton   yes   True  \n",
      "3    woman       False    C  Southampton   yes  False  \n",
      "4      man        True  NaN  Southampton    no   True  \n",
      "..     ...         ...  ...          ...   ...    ...  \n",
      "886    man        True  NaN  Southampton    no   True  \n",
      "887  woman       False    B  Southampton   yes   True  \n",
      "888  woman       False  NaN  Southampton    no  False  \n",
      "889    man        True    C    Cherbourg   yes   True  \n",
      "890    man        True  NaN   Queenstown    no   True  \n",
      "\n",
      "[891 rows x 15 columns]\n"
     ]
    }
   ],
   "source": [
    "print(titanic)"
   ]
  },
  {
   "cell_type": "code",
   "execution_count": 10,
   "id": "03c2fd51-106d-42a0-92a5-949676e90ff8",
   "metadata": {},
   "outputs": [],
   "source": [
    "import statsmodels.api as sm \n",
    "import numpy as np\n",
    "from sklearn.preprocessing import LabelEncoder\n",
    "# 로지스틱 회귀분석 : 성공, 실패중 하나의 클래스를 예측할 때 사용 \n",
    "# k개의 설명변수가 주어졌을 때 어떤 이벤트 A 가 발생할 확률 계산 \n",
    "# 선형 회귀분석과 다른점은 종속변수가 0과 1이 되어야 한다. "
   ]
  },
  {
   "cell_type": "code",
   "execution_count": 15,
   "id": "2b87cd93-5cb8-42ee-8af4-c58bcfed9b0f",
   "metadata": {},
   "outputs": [
    {
     "name": "stdout",
     "output_type": "stream",
     "text": [
      "     survived  pclass  sex   age  sibsp  parch     fare embarked   class  \\\n",
      "0           0       3    1  22.0      1      0   7.2500        S   Third   \n",
      "1           1       1    0  38.0      1      0  71.2833        C   First   \n",
      "2           1       3    0  26.0      0      0   7.9250        S   Third   \n",
      "3           1       1    0  35.0      1      0  53.1000        S   First   \n",
      "4           0       3    1  35.0      0      0   8.0500        S   Third   \n",
      "..        ...     ...  ...   ...    ...    ...      ...      ...     ...   \n",
      "886         0       2    1  27.0      0      0  13.0000        S  Second   \n",
      "887         1       1    0  19.0      0      0  30.0000        S   First   \n",
      "888         0       3    0   NaN      1      2  23.4500        S   Third   \n",
      "889         1       1    1  26.0      0      0  30.0000        C   First   \n",
      "890         0       3    1  32.0      0      0   7.7500        Q   Third   \n",
      "\n",
      "       who  adult_male deck  embark_town alive  alone  \n",
      "0      man        True  NaN  Southampton    no  False  \n",
      "1    woman       False    C    Cherbourg   yes  False  \n",
      "2    woman       False  NaN  Southampton   yes   True  \n",
      "3    woman       False    C  Southampton   yes  False  \n",
      "4      man        True  NaN  Southampton    no   True  \n",
      "..     ...         ...  ...          ...   ...    ...  \n",
      "886    man        True  NaN  Southampton    no   True  \n",
      "887  woman       False    B  Southampton   yes   True  \n",
      "888  woman       False  NaN  Southampton    no  False  \n",
      "889    man        True    C    Cherbourg   yes   True  \n",
      "890    man        True  NaN   Queenstown    no   True  \n",
      "\n",
      "[891 rows x 15 columns]\n",
      "Optimization terminated successfully.\n",
      "         Current function value: 0.445244\n",
      "         Iterations 6\n",
      "                           Logit Regression Results                           \n",
      "==============================================================================\n",
      "Dep. Variable:               survived   No. Observations:                  714\n",
      "Model:                          Logit   Df Residuals:                      707\n",
      "Method:                           MLE   Df Model:                            6\n",
      "Date:                Thu, 07 Mar 2024   Pseudo R-squ.:                  0.3408\n",
      "Time:                        10:00:29   Log-Likelihood:                -317.90\n",
      "converged:                       True   LL-Null:                       -482.26\n",
      "Covariance Type:            nonrobust   LLR p-value:                 5.727e-68\n",
      "==============================================================================\n",
      "                 coef    std err          z      P>|z|      [0.025      0.975]\n",
      "------------------------------------------------------------------------------\n",
      "Intercept      5.3890      0.604      8.926      0.000       4.206       6.572\n",
      "pclass        -1.2422      0.163     -7.612      0.000      -1.562      -0.922\n",
      "sex           -2.6348      0.220    -11.998      0.000      -3.065      -2.204\n",
      "age           -0.0440      0.008     -5.374      0.000      -0.060      -0.028\n",
      "fare           0.0022      0.002      0.866      0.386      -0.003       0.007\n",
      "parch         -0.0619      0.123     -0.504      0.614      -0.303       0.179\n",
      "sibsp         -0.3758      0.127     -2.950      0.003      -0.625      -0.126\n",
      "==============================================================================\n",
      "OR\n",
      "Intercept    218.984972\n",
      "pclass         0.288734\n",
      "sex            0.071730\n",
      "age            0.956999\n",
      "fare           1.002162\n",
      "parch          0.939942\n",
      "sibsp          0.686771\n",
      "dtype: float64\n"
     ]
    }
   ],
   "source": [
    "encoder = LabelEncoder()\n",
    "encoder.fit(titanic['sex'])\n",
    "sex = encoder.transform(titanic['sex']) # male, female 값을 숫자로 변환 \n",
    "titanic['sex'] = sex\n",
    "\n",
    "# 로지스틱 회귀분석을 수행하는 함수 \n",
    "model = sm.Logit.from_formula('survived ~ pclass + sex + age + fare + parch + sibsp', data=titanic) \n",
    "logit = model.fit() # 데이터 모델 학습 \n",
    "print(logit.summary())\n",
    "\n",
    "print(\"OR\")\n",
    "print(np.exp(logit.params))"
   ]
  },
  {
   "cell_type": "code",
   "execution_count": null,
   "id": "dda6479c-b0c1-4744-8a56-e9c980a49b06",
   "metadata": {},
   "outputs": [],
   "source": [
    "# 오즈비(or): 어떤 사건이 일어날 확률(P)을 사건이 일어나지 않을 확률(1-P)로 나눈 값\n",
    "# 사건이 발생하지 않을 확률 * 오즈비 = 사건이 발생할 확률 \n",
    "\n",
    "# p-value 가 0.05 보다 작을 때 유의미한 변수로 판단 \n",
    "\n",
    "# 오즈비가 1보다 크면 해당 독립변수의 값이 증가할 때 종속 변수의 로그 오즈도 같이 증가하고\n",
    "# 오즈비가 1보다 작으면 독립변수의 값이 증가할 때 종속변수의 로그 오즈의 값이 감소한다. \n",
    "\n",
    "# sex(독립변수) : 1 남성, 0: 여성, survived(종속변수) : 1 생존, 0 생존 X \n",
    "# sex의 오즈비 값이 0.07 이므로 \n",
    "# 남성(1)생존확률  = 여성(0)생존확률 * 0.07 "
   ]
  }
 ],
 "metadata": {
  "kernelspec": {
   "display_name": "Python 3 (ipykernel)",
   "language": "python",
   "name": "python3"
  },
  "language_info": {
   "codemirror_mode": {
    "name": "ipython",
    "version": 3
   },
   "file_extension": ".py",
   "mimetype": "text/x-python",
   "name": "python",
   "nbconvert_exporter": "python",
   "pygments_lexer": "ipython3",
   "version": "3.11.7"
  }
 },
 "nbformat": 4,
 "nbformat_minor": 5
}
