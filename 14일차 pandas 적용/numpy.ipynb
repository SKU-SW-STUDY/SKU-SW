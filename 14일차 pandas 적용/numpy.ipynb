{
 "cells": [
  {
   "cell_type": "code",
   "execution_count": 2,
   "id": "e9a98464-80d9-4109-b703-5d58c6faba65",
   "metadata": {},
   "outputs": [],
   "source": [
    "import numpy as np"
   ]
  },
  {
   "cell_type": "code",
   "execution_count": 3,
   "id": "bc28d669-49b5-4587-b6f1-fa55a845c0b6",
   "metadata": {},
   "outputs": [],
   "source": [
    "import random"
   ]
  },
  {
   "cell_type": "code",
   "execution_count": 10,
   "id": "ae2950df-6a0a-4635-8783-cf6b15fa5535",
   "metadata": {},
   "outputs": [
    {
     "name": "stdout",
     "output_type": "stream",
     "text": [
      "1\n",
      "2\n",
      "2\n",
      "1\n",
      "1\n",
      "3\n",
      "2\n",
      "2\n",
      "1\n",
      "3\n"
     ]
    }
   ],
   "source": [
    "for i in range(10):\n",
    "    print(random.randint(1, 3))"
   ]
  },
  {
   "cell_type": "code",
   "execution_count": 11,
   "id": "4c2a1abb-98ad-417f-bda5-d786e0432e09",
   "metadata": {},
   "outputs": [],
   "source": [
    "from datetime import datetime"
   ]
  },
  {
   "cell_type": "code",
   "execution_count": 12,
   "id": "9a035c0f-026c-4625-8ba9-87d54647d671",
   "metadata": {},
   "outputs": [
    {
     "name": "stdout",
     "output_type": "stream",
     "text": [
      "2024-03-05 09:23:12.753505\n"
     ]
    }
   ],
   "source": [
    "today = datetime.now()\n",
    "print(today)"
   ]
  },
  {
   "cell_type": "code",
   "execution_count": 14,
   "id": "cd0e7e15-55e0-4b4e-badb-cf1f781768a5",
   "metadata": {},
   "outputs": [
    {
     "data": {
      "text/plain": [
       "'2024/03/05 09:23:12'"
      ]
     },
     "execution_count": 14,
     "metadata": {},
     "output_type": "execute_result"
    }
   ],
   "source": [
    "datetime.strftime(today, \"%Y/%m/%d %H:%M:%S\")"
   ]
  },
  {
   "cell_type": "code",
   "execution_count": 16,
   "id": "9c3ea71d-3551-4ae5-9bb5-7d864d5acb2c",
   "metadata": {},
   "outputs": [
    {
     "name": "stdout",
     "output_type": "stream",
     "text": [
      "2024\n",
      "2\n",
      "1\n"
     ]
    }
   ],
   "source": [
    "dt = datetime(2024,2,1)\n",
    "print(dt.year)\n",
    "print(dt.month)\n",
    "print(dt.day)"
   ]
  },
  {
   "cell_type": "code",
   "execution_count": 17,
   "id": "794b5fe0-8cd5-4b47-833d-e3f28ecbac7d",
   "metadata": {},
   "outputs": [
    {
     "data": {
      "text/plain": [
       "3"
      ]
     },
     "execution_count": 17,
     "metadata": {},
     "output_type": "execute_result"
    }
   ],
   "source": [
    "dt.weekday()"
   ]
  },
  {
   "cell_type": "code",
   "execution_count": 18,
   "id": "b3387e7a-d566-4d7f-968c-d27a4111ad37",
   "metadata": {},
   "outputs": [],
   "source": [
    "import calendar"
   ]
  },
  {
   "cell_type": "code",
   "execution_count": 20,
   "id": "13e96f91-f028-4d2f-bc4e-6bf5e83c2a7e",
   "metadata": {},
   "outputs": [
    {
     "name": "stdout",
     "output_type": "stream",
     "text": [
      "(3, 29)\n"
     ]
    }
   ],
   "source": [
    "# monthrange \n",
    "# 특정월의 시작요일과 해당월의 총 일수를 리턴 \n",
    "monthInfo = calendar.monthrange(2024,2)\n",
    "print(monthInfo) "
   ]
  },
  {
   "cell_type": "code",
   "execution_count": 21,
   "id": "db9eb1cb-99c1-41db-9e04-41c4a6e29404",
   "metadata": {},
   "outputs": [],
   "source": [
    "import pandas as pd "
   ]
  },
  {
   "cell_type": "code",
   "execution_count": 4,
   "id": "9182b6a1-28de-47f1-9679-3590f4c132e6",
   "metadata": {},
   "outputs": [],
   "source": [
    "b = np.array([[1,2,3], [4,5,6]])"
   ]
  },
  {
   "cell_type": "code",
   "execution_count": 6,
   "id": "13837da2-c01b-4221-ba8b-26cbdf03db26",
   "metadata": {},
   "outputs": [
    {
     "name": "stdout",
     "output_type": "stream",
     "text": [
      "(2, 3)\n"
     ]
    }
   ],
   "source": [
    "print(b.shape)"
   ]
  },
  {
   "cell_type": "code",
   "execution_count": 7,
   "id": "7cac4720-0ce9-4daf-bf86-6f7cf1d9ea4f",
   "metadata": {},
   "outputs": [
    {
     "name": "stdout",
     "output_type": "stream",
     "text": [
      "[1 2 3]\n"
     ]
    }
   ],
   "source": [
    "print(b[0])"
   ]
  },
  {
   "cell_type": "code",
   "execution_count": 13,
   "id": "bc34562f-9c04-4af8-bc23-52f262ff2fe7",
   "metadata": {},
   "outputs": [
    {
     "name": "stdout",
     "output_type": "stream",
     "text": [
      "차원: 2\n",
      "모양: (1795, 4)\n",
      "원소 수: 7180\n",
      "[[1.000e+00 2.016e+03 6.300e-01 3.750e+00]\n",
      " [2.000e+00 2.015e+03 7.000e-01 2.750e+00]\n",
      " [3.000e+00 2.015e+03 7.000e-01 3.000e+00]\n",
      " ...\n",
      " [1.793e+03 2.011e+03 6.500e-01 3.500e+00]\n",
      " [1.794e+03 2.011e+03 6.200e-01 3.250e+00]\n",
      " [1.795e+03 2.010e+03 6.500e-01 3.000e+00]]\n"
     ]
    }
   ],
   "source": [
    "# 우수 초콜릿 분석 \n",
    "import numpy as np\n",
    "\n",
    "# 1열 : 초콜릿 번호, 2열: 평점 기록 연도, 3열: 카카오 함유율, 4열: 평점\n",
    "data = np.loadtxt('chocolate_rating.csv', delimiter=',') \n",
    "print(\"차원:\", data.ndim)\n",
    "print(\"모양:\", data.shape)\n",
    "print(\"원소 수:\", data.size)\n",
    "print(data)"
   ]
  },
  {
   "cell_type": "code",
   "execution_count": 14,
   "id": "8799ee9d-3b18-4b5d-ab01-5fc372565688",
   "metadata": {},
   "outputs": [
    {
     "name": "stdout",
     "output_type": "stream",
     "text": [
      "3.185933147632312\n"
     ]
    }
   ],
   "source": [
    "# 평점의 평균을 출력 \n",
    "ratings_mean = data[:, 3].mean()\n",
    "print(ratings_mean)"
   ]
  },
  {
   "cell_type": "code",
   "execution_count": 15,
   "id": "907c35cd-2b95-44d4-84ff-4302438c20a6",
   "metadata": {},
   "outputs": [
    {
     "name": "stdout",
     "output_type": "stream",
     "text": [
      "우수 초콜릿 수 : 100\n"
     ]
    }
   ],
   "source": [
    "# 평점이 4보다 큰 초콜릿을 우수 초콜릿으로 선정\n",
    "high_level = data[data[:, 3] >= 4]\n",
    "high_id = high_level[:, 0].astype(np.int64)\n",
    "print(\"우수 초콜릿 수 :\", high_id.size)"
   ]
  },
  {
   "cell_type": "code",
   "execution_count": 16,
   "id": "142d3806-4819-4c2f-94bf-a71a562c69fe",
   "metadata": {},
   "outputs": [
    {
     "name": "stdout",
     "output_type": "stream",
     "text": [
      "[  10   18   21   55   57   77   78   79   84   87   88   93  108  109\n",
      "  118  124  153  180  181  187  223  232  233  240  243  244  245  248\n",
      "  257  312  316  317  358  437  503  567  573  574  582  601  650  687\n",
      "  690  691  701  720  730  800  828  862  864  865  866  883  919  993\n",
      " 1088 1089 1118 1119 1120 1204 1241 1245 1247 1274 1277 1278 1289 1291\n",
      " 1293 1295 1323 1331 1336 1378 1394 1426 1428 1433 1479 1488 1513 1516\n",
      " 1529 1530 1531 1533 1536 1537 1544 1545 1664 1683 1686 1688 1694 1700\n",
      " 1740 1757]\n"
     ]
    }
   ],
   "source": [
    "print(high_id)"
   ]
  },
  {
   "cell_type": "code",
   "execution_count": 17,
   "id": "e2e80262-8165-4141-b2cf-c01aa0cc9a84",
   "metadata": {},
   "outputs": [
    {
     "name": "stdout",
     "output_type": "stream",
     "text": [
      "카카오 함유량: [0.6  0.63 0.64 0.65 0.66 0.67 0.68 0.69 0.7  0.71 0.72 0.73 0.74 0.75\n",
      " 0.78 0.8  0.88]\n",
      "함유량별 빈도수: [ 1  3  4  2  1  3  2  2 45  1 11  1  4 17  1  1  1]\n"
     ]
    }
   ],
   "source": [
    "# unique 함수를 통해 카카오 함유량, 함유량별 빈도수 출력 \n",
    "# unique : 배열의 중복값을 제거하여 남은 값의 배열과 빈도수를 반환 \n",
    "high_kakao = high_level[:, 2]\n",
    "unique_values, value_counts = np.unique(high_kakao, return_counts=True)\n",
    "print(\"카카오 함유량:\", unique_values)\n",
    "print(\"함유량별 빈도수:\", value_counts)"
   ]
  },
  {
   "cell_type": "code",
   "execution_count": 18,
   "id": "2c7c6ff0-de10-4914-91f1-7538903ae179",
   "metadata": {},
   "outputs": [
    {
     "name": "stdout",
     "output_type": "stream",
     "text": [
      "0.7\n",
      "우수 초콜릿 100 가지 중 45 가지의 카카오 함유량이 70.0 % 입니다.\n"
     ]
    }
   ],
   "source": [
    "# 우수 초콜릿 중 가장 빈도수가 큰 카카오 함유량을 구함 \n",
    "max_index = np.argmax(value_counts)\n",
    "print(unique_values[max_index])\n",
    "print('우수 초콜릿', high_id.size, \"가지 중\", value_counts[max_index],\n",
    "      '가지의 카카오 함유량이', unique_values[max_index] * 100 , '% 입니다.')"
   ]
  },
  {
   "cell_type": "code",
   "execution_count": null,
   "id": "10b81a8b-58fe-4a24-892e-2c029fa42327",
   "metadata": {},
   "outputs": [],
   "source": []
  }
 ],
 "metadata": {
  "kernelspec": {
   "display_name": "Python 3 (ipykernel)",
   "language": "python",
   "name": "python3"
  },
  "language_info": {
   "codemirror_mode": {
    "name": "ipython",
    "version": 3
   },
   "file_extension": ".py",
   "mimetype": "text/x-python",
   "name": "python",
   "nbconvert_exporter": "python",
   "pygments_lexer": "ipython3",
   "version": "3.11.7"
  }
 },
 "nbformat": 4,
 "nbformat_minor": 5
}
